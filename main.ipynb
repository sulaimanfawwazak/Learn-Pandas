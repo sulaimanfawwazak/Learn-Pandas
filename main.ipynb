{
 "cells": [
  {
   "cell_type": "code",
   "execution_count": 15,
   "metadata": {},
   "outputs": [],
   "source": [
    "import pandas as pd"
   ]
  },
  {
   "cell_type": "code",
   "execution_count": 11,
   "metadata": {},
   "outputs": [
    {
     "data": {
      "text/html": [
       "<div>\n",
       "<style scoped>\n",
       "    .dataframe tbody tr th:only-of-type {\n",
       "        vertical-align: middle;\n",
       "    }\n",
       "\n",
       "    .dataframe tbody tr th {\n",
       "        vertical-align: top;\n",
       "    }\n",
       "\n",
       "    .dataframe thead th {\n",
       "        text-align: right;\n",
       "    }\n",
       "</style>\n",
       "<table border=\"1\" class=\"dataframe\">\n",
       "  <thead>\n",
       "    <tr style=\"text-align: right;\">\n",
       "      <th></th>\n",
       "      <th>Alice</th>\n",
       "      <th>Bob</th>\n",
       "    </tr>\n",
       "  </thead>\n",
       "  <tbody>\n",
       "    <tr>\n",
       "      <th>Product A</th>\n",
       "      <td>I really liked it!</td>\n",
       "      <td>I enjoyed it!</td>\n",
       "    </tr>\n",
       "    <tr>\n",
       "      <th>Product B</th>\n",
       "      <td>Meh</td>\n",
       "      <td>Standard</td>\n",
       "    </tr>\n",
       "  </tbody>\n",
       "</table>\n",
       "</div>"
      ],
      "text/plain": [
       "                        Alice            Bob\n",
       "Product A  I really liked it!  I enjoyed it!\n",
       "Product B                 Meh       Standard"
      ]
     },
     "execution_count": 11,
     "metadata": {},
     "output_type": "execute_result"
    }
   ],
   "source": [
    "# This is a dataframe\n",
    "dataframe = pd.DataFrame({'Alice': ['I really liked it!', 'Meh'], 'Bob': ['I enjoyed it!', 'Standard']}, index=['Product A', 'Product B'])\n",
    "dataframe"
   ]
  },
  {
   "cell_type": "code",
   "execution_count": 26,
   "metadata": {},
   "outputs": [
    {
     "name": "stdout",
     "output_type": "stream",
     "text": [
      "(3, 2)\n"
     ]
    },
    {
     "data": {
      "text/html": [
       "<div>\n",
       "<style scoped>\n",
       "    .dataframe tbody tr th:only-of-type {\n",
       "        vertical-align: middle;\n",
       "    }\n",
       "\n",
       "    .dataframe tbody tr th {\n",
       "        vertical-align: top;\n",
       "    }\n",
       "\n",
       "    .dataframe thead th {\n",
       "        text-align: right;\n",
       "    }\n",
       "</style>\n",
       "<table border=\"1\" class=\"dataframe\">\n",
       "  <thead>\n",
       "    <tr style=\"text-align: right;\">\n",
       "      <th></th>\n",
       "      <th>Alice</th>\n",
       "      <th>Bob</th>\n",
       "    </tr>\n",
       "  </thead>\n",
       "  <tbody>\n",
       "    <tr>\n",
       "      <th>Product A</th>\n",
       "      <td>I really liked it!</td>\n",
       "      <td>Meh</td>\n",
       "    </tr>\n",
       "    <tr>\n",
       "      <th>Product B</th>\n",
       "      <td>I enjoyed it!</td>\n",
       "      <td>Standard</td>\n",
       "    </tr>\n",
       "    <tr>\n",
       "      <th>Product C</th>\n",
       "      <td>Ok</td>\n",
       "      <td>Fine</td>\n",
       "    </tr>\n",
       "  </tbody>\n",
       "</table>\n",
       "</div>"
      ],
      "text/plain": [
       "                        Alice       Bob\n",
       "Product A  I really liked it!       Meh\n",
       "Product B       I enjoyed it!  Standard\n",
       "Product C                  Ok      Fine"
      ]
     },
     "execution_count": 26,
     "metadata": {},
     "output_type": "execute_result"
    }
   ],
   "source": [
    "# We can also define it like this\n",
    "dataframe = pd.DataFrame([['I really liked it!', 'Meh'], ['I enjoyed it!', 'Standard'], ['Ok', 'Fine']], columns=['Alice', 'Bob'], index=['Product A', 'Product B', 'Product C'])\n",
    "print(dataframe.shape)\n",
    "dataframe"
   ]
  },
  {
   "cell_type": "code",
   "execution_count": 9,
   "metadata": {},
   "outputs": [
    {
     "data": {
      "text/plain": [
       "0    1\n",
       "1    2\n",
       "2    3\n",
       "3    4\n",
       "4    5\n",
       "dtype: int64"
      ]
     },
     "execution_count": 9,
     "metadata": {},
     "output_type": "execute_result"
    }
   ],
   "source": [
    "# This is a series\n",
    "series = pd.Series([1, 2, 3, 4, 5])\n",
    "series"
   ]
  },
  {
   "cell_type": "code",
   "execution_count": 10,
   "metadata": {},
   "outputs": [
    {
     "data": {
      "text/plain": [
       "2015 Sales    30\n",
       "2016 Sales    40\n",
       "2017 Sales    50\n",
       "Name: Product A, dtype: int64"
      ]
     },
     "execution_count": 10,
     "metadata": {},
     "output_type": "execute_result"
    }
   ],
   "source": [
    "series = pd.Series([30, 40 , 50], index=['2015 Sales', '2016 Sales', '2017 Sales'], name='Product A')\n",
    "series"
   ]
  },
  {
   "cell_type": "code",
   "execution_count": 27,
   "metadata": {},
   "outputs": [
    {
     "name": "stderr",
     "output_type": "stream",
     "text": [
      "/tmp/ipykernel_72289/4016469118.py:5: FutureWarning: Series.__getitem__ treating keys as positions is deprecated. In a future version, integer keys will always be treated as labels (consistent with DataFrame behavior). To access a value by position, use `ser.iloc[pos]`\n",
      "  dataframe.Alice[0]\n"
     ]
    },
    {
     "data": {
      "text/plain": [
       "'I really liked it!'"
      ]
     },
     "execution_count": 27,
     "metadata": {},
     "output_type": "execute_result"
    }
   ],
   "source": [
    "# To access an attribute, we can use something like this\n",
    "# dataframe.attr_1 or\n",
    "# dataframe['attr_1']\n",
    "\n",
    "dataframe.Alice[0]"
   ]
  },
  {
   "cell_type": "code",
   "execution_count": 37,
   "metadata": {},
   "outputs": [
    {
     "name": "stdout",
     "output_type": "stream",
     "text": [
      "Alice    I really liked it!\n",
      "Bob                     Meh\n",
      "Name: Product A, dtype: object\n",
      "==================\n",
      "Product A    I really liked it!\n",
      "Product B         I enjoyed it!\n",
      "Product C                    Ok\n",
      "Name: Alice, dtype: object\n",
      "==================\n",
      "Alice    I really liked it!\n",
      "Bob                     Meh\n",
      "Name: Product A, dtype: object\n"
     ]
    }
   ],
   "source": [
    "# Indexing in Pandas\n",
    "# dataframe.iloc[row, column]\n",
    "print(dataframe.iloc[0]) # Get the first row, for all column\n",
    "print('==================')\n",
    "print(dataframe.iloc[:, 0]) # Get the whole row, for the 1st column\n",
    "print('==================')\n",
    "print(dataframe.iloc[0, :]) # Get the first row, for all columns"
   ]
  },
  {
   "cell_type": "code",
   "execution_count": 40,
   "metadata": {},
   "outputs": [
    {
     "name": "stdout",
     "output_type": "stream",
     "text": [
      "                        Alice       Bob\n",
      "Product A  I really liked it!       Meh\n",
      "Product B       I enjoyed it!  Standard\n"
     ]
    }
   ],
   "source": [
    "print(dataframe.iloc[[0, 1], :]) # Get the 1st and 2nd rows, for all columns"
   ]
  },
  {
   "cell_type": "code",
   "execution_count": 44,
   "metadata": {},
   "outputs": [
    {
     "data": {
      "text/plain": [
       "Product A         Meh\n",
       "Product B    Standard\n",
       "Product C        Fine\n",
       "Name: Bob, dtype: object"
      ]
     },
     "execution_count": 44,
     "metadata": {},
     "output_type": "execute_result"
    }
   ],
   "source": [
    "dataframe.loc[:, 'Bob'] # Get all rows for the \"Bob\" column"
   ]
  },
  {
   "cell_type": "markdown",
   "metadata": {},
   "source": [
    "# Keypoints\n",
    "\n",
    "- We use `iloc` for **integer-indexing**, while `loc` for **label-indexing**\n",
    "- We can use `df.column` or `df['column']` to select a single column\n",
    "- If we select a single column, by default we'll get a `pd.Series`"
   ]
  }
 ],
 "metadata": {
  "kernelspec": {
   "display_name": "datsci",
   "language": "python",
   "name": "python3"
  },
  "language_info": {
   "codemirror_mode": {
    "name": "ipython",
    "version": 3
   },
   "file_extension": ".py",
   "mimetype": "text/x-python",
   "name": "python",
   "nbconvert_exporter": "python",
   "pygments_lexer": "ipython3",
   "version": "3.9.19"
  }
 },
 "nbformat": 4,
 "nbformat_minor": 2
}
